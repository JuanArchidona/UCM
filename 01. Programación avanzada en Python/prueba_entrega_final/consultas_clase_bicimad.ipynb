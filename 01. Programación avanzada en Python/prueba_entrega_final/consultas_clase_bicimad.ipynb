{
 "cells": [
  {
   "cell_type": "code",
   "execution_count": 6,
   "outputs": [
    {
     "ename": "ValueError",
     "evalue": "No se encuentra una URL válida para el mes y año dados",
     "output_type": "error",
     "traceback": [
      "\u001B[1;31m---------------------------------------------------------------------------\u001B[0m",
      "\u001B[1;31mValueError\u001B[0m                                Traceback (most recent call last)",
      "Cell \u001B[1;32mIn[6], line 3\u001B[0m\n\u001B[0;32m      1\u001B[0m \u001B[38;5;28;01mfrom\u001B[39;00m \u001B[38;5;21;01mbicimad\u001B[39;00m \u001B[38;5;28;01mimport\u001B[39;00m BiciMad\n\u001B[1;32m----> 3\u001B[0m bicimad \u001B[38;5;241m=\u001B[39m \u001B[43mBiciMad\u001B[49m\u001B[43m(\u001B[49m\u001B[38;5;241;43m6\u001B[39;49m\u001B[43m,\u001B[49m\u001B[43m \u001B[49m\u001B[38;5;241;43m2021\u001B[39;49m\u001B[43m)\u001B[49m\n",
      "File \u001B[1;32m~\\Desktop\\Máster\\01. Programación avanzada en Python\\entrega_final\\bicimad\\bicimad.py:24\u001B[0m, in \u001B[0;36mBiciMad.__init__\u001B[1;34m(self, month, year)\u001B[0m\n\u001B[0;32m     22\u001B[0m \u001B[38;5;28mself\u001B[39m\u001B[38;5;241m.\u001B[39m_month \u001B[38;5;241m=\u001B[39m month\n\u001B[0;32m     23\u001B[0m \u001B[38;5;28mself\u001B[39m\u001B[38;5;241m.\u001B[39m_year \u001B[38;5;241m=\u001B[39m year\n\u001B[1;32m---> 24\u001B[0m \u001B[38;5;28mself\u001B[39m\u001B[38;5;241m.\u001B[39m_data \u001B[38;5;241m=\u001B[39m \u001B[38;5;28;43mself\u001B[39;49m\u001B[38;5;241;43m.\u001B[39;49m\u001B[43mget_data\u001B[49m\u001B[43m(\u001B[49m\u001B[43mmonth\u001B[49m\u001B[43m,\u001B[49m\u001B[43m \u001B[49m\u001B[43myear\u001B[49m\u001B[43m)\u001B[49m\n",
      "File \u001B[1;32m~\\Desktop\\Máster\\01. Programación avanzada en Python\\entrega_final\\bicimad\\bicimad.py:44\u001B[0m, in \u001B[0;36mBiciMad.get_data\u001B[1;34m(month, year)\u001B[0m\n\u001B[0;32m     28\u001B[0m \u001B[38;5;250m\u001B[39m\u001B[38;5;124;03m\"\"\"\u001B[39;00m\n\u001B[0;32m     29\u001B[0m \u001B[38;5;124;03mObtiene los datos de uso para el mes y año especificados.\u001B[39;00m\n\u001B[0;32m     30\u001B[0m \n\u001B[1;32m   (...)\u001B[0m\n\u001B[0;32m     41\u001B[0m \u001B[38;5;124;03m    Un DataFrame con los datos de uso de las bicicletas.\u001B[39;00m\n\u001B[0;32m     42\u001B[0m \u001B[38;5;124;03m\"\"\"\u001B[39;00m\n\u001B[0;32m     43\u001B[0m url_emt \u001B[38;5;241m=\u001B[39m UrlEMT()\n\u001B[1;32m---> 44\u001B[0m csv_text_io \u001B[38;5;241m=\u001B[39m \u001B[43murl_emt\u001B[49m\u001B[38;5;241;43m.\u001B[39;49m\u001B[43mget_csv\u001B[49m\u001B[43m(\u001B[49m\u001B[43mmonth\u001B[49m\u001B[43m,\u001B[49m\u001B[43m \u001B[49m\u001B[43myear\u001B[49m\u001B[43m)\u001B[49m\n\u001B[0;32m     45\u001B[0m df \u001B[38;5;241m=\u001B[39m pd\u001B[38;5;241m.\u001B[39mread_csv(csv_text_io, parse_dates\u001B[38;5;241m=\u001B[39m[\u001B[38;5;124m'\u001B[39m\u001B[38;5;124munlock_date\u001B[39m\u001B[38;5;124m'\u001B[39m, \u001B[38;5;124m'\u001B[39m\u001B[38;5;124mlock_date\u001B[39m\u001B[38;5;124m'\u001B[39m], dayfirst\u001B[38;5;241m=\u001B[39m\u001B[38;5;28;01mTrue\u001B[39;00m)\n\u001B[0;32m     46\u001B[0m df\u001B[38;5;241m.\u001B[39mset_index(\u001B[38;5;124m'\u001B[39m\u001B[38;5;124munlock_date\u001B[39m\u001B[38;5;124m'\u001B[39m, inplace\u001B[38;5;241m=\u001B[39m\u001B[38;5;28;01mTrue\u001B[39;00m) \u001B[38;5;66;03m# Damos por válido que unlock_date es la fecha del viaje\u001B[39;00m\n",
      "File \u001B[1;32m~\\Desktop\\Máster\\01. Programación avanzada en Python\\entrega_final\\bicimad\\urlemt.py:113\u001B[0m, in \u001B[0;36mUrlEMT.get_csv\u001B[1;34m(self, month, year)\u001B[0m\n\u001B[0;32m     92\u001B[0m \u001B[38;5;28;01mdef\u001B[39;00m \u001B[38;5;21mget_csv\u001B[39m(\u001B[38;5;28mself\u001B[39m, month: \u001B[38;5;28mint\u001B[39m, year: \u001B[38;5;28mint\u001B[39m) \u001B[38;5;241m-\u001B[39m\u001B[38;5;241m>\u001B[39m TextIO:\n\u001B[0;32m     93\u001B[0m \u001B[38;5;250m    \u001B[39m\u001B[38;5;124;03m\"\"\"\u001B[39;00m\n\u001B[0;32m     94\u001B[0m \u001B[38;5;124;03m    Devuelve un objeto TextIO representando el contenido de un archivo CSV.\u001B[39;00m\n\u001B[0;32m     95\u001B[0m \n\u001B[1;32m   (...)\u001B[0m\n\u001B[0;32m    111\u001B[0m \u001B[38;5;124;03m        Si la consulta al servidor EMT falla.\u001B[39;00m\n\u001B[0;32m    112\u001B[0m \u001B[38;5;124;03m    \"\"\"\u001B[39;00m\n\u001B[1;32m--> 113\u001B[0m     url \u001B[38;5;241m=\u001B[39m \u001B[38;5;28;43mself\u001B[39;49m\u001B[38;5;241;43m.\u001B[39;49m\u001B[43mget_url\u001B[49m\u001B[43m(\u001B[49m\u001B[43mmonth\u001B[49m\u001B[43m,\u001B[49m\u001B[43m \u001B[49m\u001B[43myear\u001B[49m\u001B[43m)\u001B[49m\n\u001B[0;32m    114\u001B[0m     response \u001B[38;5;241m=\u001B[39m requests\u001B[38;5;241m.\u001B[39mget(url)\n\u001B[0;32m    115\u001B[0m     \u001B[38;5;28;01mif\u001B[39;00m response\u001B[38;5;241m.\u001B[39mstatus_code \u001B[38;5;241m!=\u001B[39m \u001B[38;5;241m200\u001B[39m:\n",
      "File \u001B[1;32m~\\Desktop\\Máster\\01. Programación avanzada en Python\\entrega_final\\bicimad\\urlemt.py:89\u001B[0m, in \u001B[0;36mUrlEMT.get_url\u001B[1;34m(self, month, year)\u001B[0m\n\u001B[0;32m     87\u001B[0m     \u001B[38;5;28;01mif\u001B[39;00m expected_part \u001B[38;5;129;01min\u001B[39;00m url:\n\u001B[0;32m     88\u001B[0m         \u001B[38;5;28;01mreturn\u001B[39;00m url\n\u001B[1;32m---> 89\u001B[0m \u001B[38;5;28;01mraise\u001B[39;00m \u001B[38;5;167;01mValueError\u001B[39;00m(\u001B[38;5;124m\"\u001B[39m\u001B[38;5;124mNo se encuentra una URL válida para el mes y año dados\u001B[39m\u001B[38;5;124m\"\u001B[39m)\n",
      "\u001B[1;31mValueError\u001B[0m: No se encuentra una URL válida para el mes y año dados"
     ]
    }
   ],
   "source": [
    "from bicimad import BiciMad\n",
    "\n",
    "bicimad = BiciMad(6, 2021)"
   ],
   "metadata": {
    "collapsed": false,
    "ExecuteTime": {
     "end_time": "2023-11-15T08:25:52.808857Z",
     "start_time": "2023-11-15T08:25:52.190838400Z"
    }
   },
   "id": "bec98d4c1f88e1d"
  },
  {
   "cell_type": "code",
   "execution_count": null,
   "outputs": [],
   "source": [],
   "metadata": {
    "collapsed": false
   },
   "id": "19f68137c056330"
  }
 ],
 "metadata": {
  "kernelspec": {
   "display_name": "Python 3",
   "language": "python",
   "name": "python3"
  },
  "language_info": {
   "codemirror_mode": {
    "name": "ipython",
    "version": 2
   },
   "file_extension": ".py",
   "mimetype": "text/x-python",
   "name": "python",
   "nbconvert_exporter": "python",
   "pygments_lexer": "ipython2",
   "version": "2.7.6"
  }
 },
 "nbformat": 4,
 "nbformat_minor": 5
}
