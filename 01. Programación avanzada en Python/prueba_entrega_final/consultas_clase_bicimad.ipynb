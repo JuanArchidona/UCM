{
 "cells": [
  {
   "cell_type": "code",
   "execution_count": 2,
   "id": "initial_id",
   "metadata": {
    "collapsed": true,
    "ExecuteTime": {
     "end_time": "2023-11-14T10:26:42.826076400Z",
     "start_time": "2023-11-14T10:26:42.043755800Z"
    }
   },
   "outputs": [
    {
     "ename": "ValueError",
     "evalue": "No se pudo obtener los datos para el mes 2 y año 2023: No se encuentra una URL válida para el mes y año dados",
     "output_type": "error",
     "traceback": [
      "\u001B[1;31m---------------------------------------------------------------------------\u001B[0m",
      "\u001B[1;31mValueError\u001B[0m                                Traceback (most recent call last)",
      "File \u001B[1;32m~\\Desktop\\Máster\\01. Programación avanzada en Python\\entrega_final\\bicimad\\bicimad.py:61\u001B[0m, in \u001B[0;36mBiciMad.get_data\u001B[1;34m(month, year)\u001B[0m\n\u001B[0;32m     60\u001B[0m \u001B[38;5;28;01mtry\u001B[39;00m:\n\u001B[1;32m---> 61\u001B[0m     csv_url \u001B[38;5;241m=\u001B[39m \u001B[43murl_emt\u001B[49m\u001B[38;5;241;43m.\u001B[39;49m\u001B[43mget_url\u001B[49m\u001B[43m(\u001B[49m\u001B[43mmonth\u001B[49m\u001B[43m,\u001B[49m\u001B[43m \u001B[49m\u001B[43myear\u001B[49m\u001B[43m)\u001B[49m\n\u001B[0;32m     62\u001B[0m     csv_text \u001B[38;5;241m=\u001B[39m url_emt\u001B[38;5;241m.\u001B[39mget_csv(csv_url)\n",
      "File \u001B[1;32m~\\Desktop\\Máster\\01. Programación avanzada en Python\\entrega_final\\bicimad\\urlemt.py:89\u001B[0m, in \u001B[0;36mUrlEMT.get_url\u001B[1;34m(self, month, year)\u001B[0m\n\u001B[0;32m     88\u001B[0m         \u001B[38;5;28;01mreturn\u001B[39;00m url\n\u001B[1;32m---> 89\u001B[0m \u001B[38;5;28;01mraise\u001B[39;00m \u001B[38;5;167;01mValueError\u001B[39;00m(\u001B[38;5;124m\"\u001B[39m\u001B[38;5;124mNo se encuentra una URL válida para el mes y año dados\u001B[39m\u001B[38;5;124m\"\u001B[39m)\n",
      "\u001B[1;31mValueError\u001B[0m: No se encuentra una URL válida para el mes y año dados",
      "\nDuring handling of the above exception, another exception occurred:\n",
      "\u001B[1;31mValueError\u001B[0m                                Traceback (most recent call last)",
      "Cell \u001B[1;32mIn[2], line 3\u001B[0m\n\u001B[0;32m      1\u001B[0m \u001B[38;5;28;01mfrom\u001B[39;00m \u001B[38;5;21;01mbicimad\u001B[39;00m \u001B[38;5;28;01mimport\u001B[39;00m BiciMad\n\u001B[1;32m----> 3\u001B[0m bicimad \u001B[38;5;241m=\u001B[39m \u001B[43mBiciMad\u001B[49m\u001B[43m(\u001B[49m\u001B[38;5;241;43m2\u001B[39;49m\u001B[43m,\u001B[49m\u001B[43m \u001B[49m\u001B[38;5;241;43m2023\u001B[39;49m\u001B[43m)\u001B[49m\n",
      "File \u001B[1;32m~\\Desktop\\Máster\\01. Programación avanzada en Python\\entrega_final\\bicimad\\bicimad.py:26\u001B[0m, in \u001B[0;36mBiciMad.__init__\u001B[1;34m(self, month, year)\u001B[0m\n\u001B[0;32m     24\u001B[0m \u001B[38;5;28mself\u001B[39m\u001B[38;5;241m.\u001B[39m_month \u001B[38;5;241m=\u001B[39m month\n\u001B[0;32m     25\u001B[0m \u001B[38;5;28mself\u001B[39m\u001B[38;5;241m.\u001B[39m_year \u001B[38;5;241m=\u001B[39m year\n\u001B[1;32m---> 26\u001B[0m \u001B[38;5;28mself\u001B[39m\u001B[38;5;241m.\u001B[39m_data \u001B[38;5;241m=\u001B[39m \u001B[38;5;28;43mself\u001B[39;49m\u001B[38;5;241;43m.\u001B[39;49m\u001B[43mget_data\u001B[49m\u001B[43m(\u001B[49m\u001B[43mmonth\u001B[49m\u001B[43m,\u001B[49m\u001B[43m \u001B[49m\u001B[43myear\u001B[49m\u001B[43m)\u001B[49m\n",
      "File \u001B[1;32m~\\Desktop\\Máster\\01. Programación avanzada en Python\\entrega_final\\bicimad\\bicimad.py:64\u001B[0m, in \u001B[0;36mBiciMad.get_data\u001B[1;34m(month, year)\u001B[0m\n\u001B[0;32m     62\u001B[0m     csv_text \u001B[38;5;241m=\u001B[39m url_emt\u001B[38;5;241m.\u001B[39mget_csv(csv_url)\n\u001B[0;32m     63\u001B[0m \u001B[38;5;28;01mexcept\u001B[39;00m \u001B[38;5;167;01mException\u001B[39;00m \u001B[38;5;28;01mas\u001B[39;00m e:\n\u001B[1;32m---> 64\u001B[0m     \u001B[38;5;28;01mraise\u001B[39;00m \u001B[38;5;167;01mValueError\u001B[39;00m(\u001B[38;5;124mf\u001B[39m\u001B[38;5;124m\"\u001B[39m\u001B[38;5;124mNo se pudo obtener los datos para el mes \u001B[39m\u001B[38;5;132;01m{\u001B[39;00mmonth\u001B[38;5;132;01m}\u001B[39;00m\u001B[38;5;124m y año \u001B[39m\u001B[38;5;132;01m{\u001B[39;00myear\u001B[38;5;132;01m}\u001B[39;00m\u001B[38;5;124m: \u001B[39m\u001B[38;5;132;01m{\u001B[39;00me\u001B[38;5;132;01m}\u001B[39;00m\u001B[38;5;124m\"\u001B[39m)\n\u001B[0;32m     66\u001B[0m \u001B[38;5;28;01mtry\u001B[39;00m:\n\u001B[0;32m     67\u001B[0m     data \u001B[38;5;241m=\u001B[39m pd\u001B[38;5;241m.\u001B[39mread_csv(StringIO(csv_text), sep\u001B[38;5;241m=\u001B[39m\u001B[38;5;124m'\u001B[39m\u001B[38;5;124m;\u001B[39m\u001B[38;5;124m'\u001B[39m, parse_dates\u001B[38;5;241m=\u001B[39m[\u001B[38;5;124m'\u001B[39m\u001B[38;5;124munlock_date\u001B[39m\u001B[38;5;124m'\u001B[39m, \u001B[38;5;124m'\u001B[39m\u001B[38;5;124mlock_date\u001B[39m\u001B[38;5;124m'\u001B[39m])\n",
      "\u001B[1;31mValueError\u001B[0m: No se pudo obtener los datos para el mes 2 y año 2023: No se encuentra una URL válida para el mes y año dados"
     ]
    }
   ],
   "source": [
    "from bicimad import BiciMad\n",
    "\n",
    "bicimad = BiciMad(2, 2023)"
   ]
  },
  {
   "cell_type": "code",
   "execution_count": null,
   "outputs": [],
   "source": [],
   "metadata": {
    "collapsed": false
   },
   "id": "70fa11405b198eca"
  }
 ],
 "metadata": {
  "kernelspec": {
   "display_name": "Python 3",
   "language": "python",
   "name": "python3"
  },
  "language_info": {
   "codemirror_mode": {
    "name": "ipython",
    "version": 2
   },
   "file_extension": ".py",
   "mimetype": "text/x-python",
   "name": "python",
   "nbconvert_exporter": "python",
   "pygments_lexer": "ipython2",
   "version": "2.7.6"
  }
 },
 "nbformat": 4,
 "nbformat_minor": 5
}
