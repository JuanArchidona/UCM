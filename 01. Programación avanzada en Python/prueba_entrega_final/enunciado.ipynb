{
 "cells": [
  {
   "cell_type": "markdown",
   "metadata": {
    "id": "ju_OpkzM_aMb"
   },
   "source": [
    "\n",
    "MÁSTER BIG DATA & DATA ENGINEERING\n",
    "\n",
    "Programación avanzada en Python\n",
    "\n",
    "Autores: Luis Llana Díaz & Yolanda García Ruiz\n",
    "\n"
   ]
  },
  {
   "cell_type": "markdown",
   "metadata": {
    "id": "lv6DO-LM_aMn"
   },
   "source": [
    "# Trabajo final"
   ]
  },
  {
   "cell_type": "markdown",
   "metadata": {
    "id": "oflRIdDz_aMp"
   },
   "source": [
    "## Nota Preliminar\n",
    "\n",
    "Antes de desarrollar el proyecto, es aconsejable leer el enunciado completamente, incluyendo las instrucciones de entrega y otros consejos que se  recogen al final de este enunciado.\n",
    "En este enunciado se pueden producir cambios durante su desarrollo por distintos motivos: porque se descubre una situación anómala que no ha sido prevista al preparar el enunciado, porque algún estudiante encuentre un error o ambigüedad en la descripción o en los datos de partida o por cualquier otra causa. Esto ocurre también en cualquier proyecto real, así que tomárselo con el mejor talante y aprender también de estas eventuales contingencias. Se procurará informar debidamente del mejor modo posible cuando esto se produzca.\n"
   ]
  },
  {
   "cell_type": "markdown",
   "metadata": {
    "id": "ASxqaXhcRt7m"
   },
   "source": [
    "## Introducción\n",
    "\n",
    "En el portal de datos abiertos de la EMT de Madrid se puede encontrar abundante información sobre transporte y movilidad de la ciudad. En particular los datos relativos a la utilización del servicio de bicicletas eléctricas del ayuntamiento de Madrid.\n",
    "La dirección del portal mencionado es la siguiente:\n",
    "\n",
    "https://opendata.emtmadrid.es/Home\n",
    "\n",
    "y el enlace donde se encuentran los datos relativos a BiciMAD es el siguiente:\n",
    "\n",
    "https://opendata.emtmadrid.es/Datos-estaticos/Datos-generales-(1)\n",
    "\n",
    "En esta página podemos encontrar los datos de uso de BiciMAD por meses desde abril de 2019 hasta el mes Febrero de 2023. Se trata de un conjunto de URLs a ficheros comprimidos ZIP, donde una vez descomprimidos, podemos encontrar un fichero en formato `csv`.\n",
    "En esta práctica __solo nos va a interesar los datos de uso desde junio el 2021__. Son ficheros con nombre:\n",
    "\n",
    "`\n",
    "trips_YY_MM_monthName.csv\n",
    "`\n",
    "\n",
    "donde `YY` representa el año, `MM` representa el mes y `monthName` representa el nombre del mes en inglés.\n",
    "\n",
    "Los datos del mes 10 del año 2021 está mal generado por la EMT, por lo que se pide que no se use ese fichero.\n",
    "\n",
    "### Metadatos\n",
    "\n",
    "En cada uno de los ficheros `csv` podemos encontrar los siguientes datos:\n",
    "\n",
    "* `date` (Fecha): La fecha en la que tuvo lugar el viaje.\n",
    "* `idbike` (ID de Bicicleta): El identificador único de la bicicleta utilizada para el viaje.\n",
    "* `fleet` (Flota): La flota a la que pertenece la bicicleta utilizada.\n",
    "* `trip_minutes` (Duración del Viaje en Minutos): La duración del viaje en minutos.\n",
    "* `geolocation_unlock` (Geolocalización de Desbloqueo): Las coordenadas geográficas del lugar de inicio del viaje.\n",
    "* `address_unlock` (Dirección de Desbloqueo): La dirección postal en la que se desbloqueó la bicicleta.\n",
    "* `unlock_date` (Fecha y Hora de Desbloqueo): La fecha y hora exactas en las que comenzó el viaje.\n",
    "* `locktype` (Tipo de Bloqueo): El estado de la bicicleta antes del viaje. Puede estar anclada en una estación o simplemente bloqueada en cualquier lugar libremente.\n",
    "* `unlocktype` (Tipo de Desbloqueo): El estado de la bicicleta después del viaje.\n",
    "* `geolocation_lock` (Geolocalización de Bloqueo): Las coordenadas geográficas del lugar final del viaje.\n",
    "* `address_lock` (Dirección de Bloqueo): La dirección postal en la que se bloqueó la bicicleta.\n",
    "* `lock_date` (Fecha y Hora de Bloqueo): La fecha y hora exactas en las que finalizó el viaje.\n",
    "* `station_unlock` (Número de Estación de Desbloqueo): El número de la estación en la que la bicicleta estaba anclada antes del viaje, si la había.\n",
    "* `dock_unlock` (Muelle de Desbloqueo): El muelle de la estación en la que la bicicleta estaba anclada antes del viaje, si la había.\n",
    "*  `unlock_station_name` (Nombre de la Estación de Desbloqueo): El nombre de la estación en la que la bicicleta estaba anclada antes del viaje, si la había.\n",
    "* `station_lock` (Número de Estación de Bloqueo): El número de la estación en la que la bicicleta estaba anclada después del viaje, si la había.\n",
    "* `dock_lock` (Muelle de Bloqueo): El muelle de la estación en la que la bicicleta estaba anclada después del viaje, si la había.\n",
    "* `lock_station_name` (Nombre de la Estación de Bloqueo): El nombre de la estación en la que la bicicleta estaba anclada después del viaje, si la había.\n",
    "\n",
    "## Librerías\n",
    "\n",
    "Importar todas las librerías necesarias al principio, tal como propone el estilo `pep-8`. Ej.:\n",
    "<a href=\"https://www.python.org/dev/peps/pep-0008/\">PEP 8 -- Style Guide for Python Code</a>."
   ]
  },
  {
   "cell_type": "code",
   "execution_count": 1,
   "metadata": {
    "id": "pWnis8jARt7p",
    "ExecuteTime": {
     "end_time": "2023-11-10T19:50:59.656508Z",
     "start_time": "2023-11-10T19:50:58.991058100Z"
    }
   },
   "outputs": [],
   "source": [
    "# Importar librerías\n",
    "import re\n",
    "import requests\n",
    "import zipfile\n",
    "import io\n",
    "from typing import TextIO, Set\n",
    "import pandas as pd\n",
    "import matplotlib.pyplot as plt"
   ]
  },
  {
   "cell_type": "markdown",
   "metadata": {
    "id": "0KFTJmT8Rt7r"
   },
   "source": [
    "\n",
    "\n",
    "### La descarga de los ficheros\n",
    "\n",
    "En este notebook vamos a estudiar únicamente los datos de febrero de 2023.\n",
    "La URL que permite descargar dichos datos es la siguiente:"
   ]
  },
  {
   "cell_type": "code",
   "execution_count": 2,
   "metadata": {
    "id": "mbchhQSgRt7r",
    "ExecuteTime": {
     "end_time": "2023-11-10T19:50:59.680150800Z",
     "start_time": "2023-11-10T19:50:59.657506500Z"
    }
   },
   "outputs": [],
   "source": [
    "url = \"https://opendata.emtmadrid.es/getattachment/7a88cb04-9007-4520-88c5-a94c71a0b925/trips_23_02_February-csv.aspx\""
   ]
  },
  {
   "cell_type": "markdown",
   "metadata": {
    "id": "j1LR_HpdRt7s"
   },
   "source": [
    "Observa que en la URL aparece la cadena `trips_23_02`, y que el fichero ZIP tiene un archivo de datos en formato csv llamado `trips_23_02_February.csv`.\n",
    "\n",
    "\n",
    "__Se pide:__\n",
    " Escribir una función llamada `csv_from_zip` que reciba como único argumento un string que represente la URL al fichero ZIP de datos de uso y devuelva un fichero en formato CSV. El tipo del objeto devuelto es `TextIO`. La función  lanzará una excepción de tipo `ConnectionError` en caso de que falle la petición al servidor de la EMT.\n",
    "\n",
    "__Observaciones:__\n",
    "En el notebook `05_ficheros` del módulo de `Secuencias` se habla del manejo de ficheros en formato ZIP, y de cómo leer un fichero, transformarlo en una cadena de caracteres para posteriormente, usando el método `String.IO`, obtener un fichero de texto.\n",
    "Deberás importar el módulo `typing`."
   ]
  },
  {
   "cell_type": "code",
   "execution_count": 3,
   "metadata": {
    "id": "vbpstGRbtltm",
    "ExecuteTime": {
     "end_time": "2023-11-10T19:50:59.680239200Z",
     "start_time": "2023-11-10T19:50:59.663180600Z"
    }
   },
   "outputs": [],
   "source": [
    "# Solución:\n",
    "def csv_from_zip(url: str) -> TextIO:\n",
    "    \"\"\"\n",
    "    Descarga un archivo ZIP desde una URL, extrae el archivo CSV y lo devuelve como un objeto IO.\n",
    "    \n",
    "    Parameters:\n",
    "    --------\n",
    "    url: str\n",
    "        La URL del archivo ZIP a descargar.\n",
    "        \n",
    "    Returns:\n",
    "    -------\n",
    "    TextIO\n",
    "        Un objeto TextIO con los datos del archivo CSV.\n",
    "        \n",
    "    Raises:\n",
    "    --------\n",
    "    ConnectionError:\n",
    "        Si ocurre un error al descargar o extraer el archivo ZIP.\n",
    "        \n",
    "    Examples:\n",
    "    --------\n",
    "    >>> datos_csv = csv_from_zip(url)\n",
    "    >>> type(datos_csv)\n",
    "    <class '_io.StringIO'>\n",
    "    \"\"\"    \n",
    "    try:\n",
    "        # Petición para obtener el archivo ZIP\n",
    "        response = requests.get(url)\n",
    "        response.raise_for_status()  # Da un error si la petición no válida\n",
    "        \n",
    "        # Extrae los registros del ZIP\n",
    "        with zipfile.ZipFile(io.BytesIO(response.content)) as z:\n",
    "            # Busca el nombre del archivo dentro del ZIP, asumiendo que solo hay uno\n",
    "            nombre_archivo_csv = [name for name in z.namelist() if name.endswith('.csv')][0]\n",
    "            # Lee el contenido del archivo y transformarlo a TextIO\n",
    "            contenido_csv = io.StringIO(z.read(nombre_archivo_csv).decode('utf-8'))\n",
    "        \n",
    "        return contenido_csv\n",
    "    \n",
    "    except requests.exceptions.RequestException as e:\n",
    "        # Muestra un mensaje en el caso de error de la consulta\n",
    "        raise ConnectionError(\"No se puede descargar el archivo ZIP\") from e\n",
    "            "
   ]
  },
  {
   "cell_type": "code",
   "execution_count": 4,
   "metadata": {
    "id": "jWp_chU647ei",
    "ExecuteTime": {
     "end_time": "2023-11-10T19:51:01.439425600Z",
     "start_time": "2023-11-10T19:50:59.678103200Z"
    }
   },
   "outputs": [
    {
     "name": "stdout",
     "output_type": "stream",
     "text": [
      "<class '_io.StringIO'>\n"
     ]
    }
   ],
   "source": [
    "# Prueba\n",
    "archivo_csv = csv_from_zip(url)\n",
    "print(type(archivo_csv))"
   ]
  },
  {
   "cell_type": "markdown",
   "metadata": {
    "id": "x0QkhwTB2m1U"
   },
   "source": [
    "### Creación del dataframe de datos\n",
    "\n",
    "__Se pide:__\n",
    "Crear una función llamada `get_data` que reciba como único argumento un fichero csv y que devuelva un objeto de tipo DataFrame con las siguientes restricciones:\n",
    "* El índice del dataframe debe ser a fecha en la que tuvo lugar el viaje (usa el argumento `index_col`).\n",
    "* Todas las fechas que aparecen en los datos ha de tener tipo `datetime` (usa el argumento 'parse_dates`).\n",
    "* De todas las columnas que hay en el fichero, solo nos interesan las siguientes:\n",
    "\n",
    "   ```\n",
    "     [ 'idBike', 'fleet', 'trip_minutes', 'geolocation_unlock', 'address_unlock', 'unlock_date', 'locktype',\n",
    "     'unlocktype', 'geolocation_lock', 'address_lock', 'lock_date', 'station_unlock', 'unlock_station_name',\n",
    "     'station_lock', 'lock_station_name']\n",
    "   ```\n",
    "\n",
    "por lo que el dataframe ha de tener solo dichas columnas.\n",
    "\n",
    "__Observaciones:__ Observa que los datos de usos que publica la EMT son fichero CSV donde el separador de campos es el símbolo `;`."
   ]
  },
  {
   "cell_type": "code",
   "execution_count": 5,
   "metadata": {
    "id": "3K-RPhMgRt7v",
    "ExecuteTime": {
     "end_time": "2023-11-10T19:51:01.467820100Z",
     "start_time": "2023-11-10T19:51:01.444728400Z"
    }
   },
   "outputs": [],
   "source": [
    "# Solución\n",
    "def get_data(archivo_csv: TextIO) -> pd.DataFrame:\n",
    "    \"\"\"\n",
    "    Recibe un archivo CSV y devuelve un objeto de tipo DataFrame.\n",
    "    \n",
    "    Parameters:\n",
    "    --------\n",
    "    archivo_csv: TextIO \n",
    "        Objeto de texto que representa al archivo CSV.\n",
    "    \n",
    "    Returns:\n",
    "    --------\n",
    "    pd.DataFrame\n",
    "        Objeto DataFrame que cumple con las restricciones marcadas.\n",
    "    \"\"\"\n",
    "    \n",
    "    # Columnas que nos interesan\n",
    "    columnas = ['idBike', 'fleet', 'trip_minutes', 'geolocation_unlock', 'address_unlock',\n",
    "                'unlock_date', 'locktype','unlocktype', 'geolocation_lock', 'address_lock', \n",
    "                'lock_date', 'station_unlock', 'unlock_station_name', 'station_lock', 'lock_station_name']\n",
    "    \n",
    "    # Definición del DataFrame\n",
    "    df = pd.read_csv(   \n",
    "        archivo_csv, \n",
    "        sep=';', \n",
    "        usecols=columnas,\n",
    "        index_col='unlock_date',\n",
    "        parse_dates=['unlock_date', 'lock_date']\n",
    "    )\n",
    "    return df"
   ]
  },
  {
   "cell_type": "code",
   "execution_count": 6,
   "metadata": {
    "colab": {
     "base_uri": "https://localhost:8080/",
     "height": 327
    },
    "id": "nQBUiKQORt7w",
    "outputId": "bd264bd7-cf9e-4d80-af75-f505b2a99f67",
    "ExecuteTime": {
     "end_time": "2023-11-10T19:51:04.143076400Z",
     "start_time": "2023-11-10T19:51:01.458258600Z"
    }
   },
   "outputs": [
    {
     "data": {
      "text/plain": "                     idBike  fleet  trip_minutes  \\\nunlock_date                                        \nNaT                     NaN    NaN           NaN   \n2023-02-01 00:00:10  7337.0    1.0          5.52   \nNaT                     NaN    NaN           NaN   \n2023-02-01 00:00:25  5098.0    1.0          0.32   \nNaT                     NaN    NaN           NaN   \n\n                                                    geolocation_unlock  \\\nunlock_date                                                              \nNaT                                                                NaN   \n2023-02-01 00:00:10  {'type': 'Point', 'coordinates': [-3.6956178, ...   \nNaT                                                                NaN   \n2023-02-01 00:00:25  {'type': 'Point', 'coordinates': [-3.7022591, ...   \nNaT                                                                NaN   \n\n                                     address_unlock locktype unlocktype  \\\nunlock_date                                                               \nNaT                                             NaN      NaN        NaN   \n2023-02-01 00:00:10              'Calle Jesús nº 1'  STATION    STATION   \nNaT                                             NaN      NaN        NaN   \n2023-02-01 00:00:25  'Glorieta de Embajadores nº 2'  STATION    STATION   \nNaT                                             NaN      NaN        NaN   \n\n                                                      geolocation_lock  \\\nunlock_date                                                              \nNaT                                                                NaN   \n2023-02-01 00:00:10  {'type': 'Point', 'coordinates': [-3.7088337, ...   \nNaT                                                                NaN   \n2023-02-01 00:00:25  {'type': 'Point', 'coordinates': [-3.7022591, ...   \nNaT                                                                NaN   \n\n                                       address_lock           lock_date  \\\nunlock_date                                                               \nNaT                                             NaN                 NaT   \n2023-02-01 00:00:10     'Plaza de la Cebada nº 16 ' 2023-02-01 00:05:41   \nNaT                                             NaN                 NaT   \n2023-02-01 00:00:25  'Glorieta de Embajadores nº 2' 2023-02-01 00:00:44   \nNaT                                             NaN                 NaT   \n\n                     station_unlock unlock_station_name  station_lock  \\\nunlock_date                                                             \nNaT                             NaN                 NaN           NaN   \n2023-02-01 00:00:10            31.0        27 - Huertas          43.0   \nNaT                             NaN                 NaN           NaN   \n2023-02-01 00:00:25            52.0  48 - Embajadores 2          52.0   \nNaT                             NaN                 NaN           NaN   \n\n                           lock_station_name  \nunlock_date                                   \nNaT                                      NaN  \n2023-02-01 00:00:10  39 - Plaza de la Cebada  \nNaT                                      NaN  \n2023-02-01 00:00:25       48 - Embajadores 2  \nNaT                                      NaN  ",
      "text/html": "<div>\n<style scoped>\n    .dataframe tbody tr th:only-of-type {\n        vertical-align: middle;\n    }\n\n    .dataframe tbody tr th {\n        vertical-align: top;\n    }\n\n    .dataframe thead th {\n        text-align: right;\n    }\n</style>\n<table border=\"1\" class=\"dataframe\">\n  <thead>\n    <tr style=\"text-align: right;\">\n      <th></th>\n      <th>idBike</th>\n      <th>fleet</th>\n      <th>trip_minutes</th>\n      <th>geolocation_unlock</th>\n      <th>address_unlock</th>\n      <th>locktype</th>\n      <th>unlocktype</th>\n      <th>geolocation_lock</th>\n      <th>address_lock</th>\n      <th>lock_date</th>\n      <th>station_unlock</th>\n      <th>unlock_station_name</th>\n      <th>station_lock</th>\n      <th>lock_station_name</th>\n    </tr>\n    <tr>\n      <th>unlock_date</th>\n      <th></th>\n      <th></th>\n      <th></th>\n      <th></th>\n      <th></th>\n      <th></th>\n      <th></th>\n      <th></th>\n      <th></th>\n      <th></th>\n      <th></th>\n      <th></th>\n      <th></th>\n      <th></th>\n    </tr>\n  </thead>\n  <tbody>\n    <tr>\n      <th>NaT</th>\n      <td>NaN</td>\n      <td>NaN</td>\n      <td>NaN</td>\n      <td>NaN</td>\n      <td>NaN</td>\n      <td>NaN</td>\n      <td>NaN</td>\n      <td>NaN</td>\n      <td>NaN</td>\n      <td>NaT</td>\n      <td>NaN</td>\n      <td>NaN</td>\n      <td>NaN</td>\n      <td>NaN</td>\n    </tr>\n    <tr>\n      <th>2023-02-01 00:00:10</th>\n      <td>7337.0</td>\n      <td>1.0</td>\n      <td>5.52</td>\n      <td>{'type': 'Point', 'coordinates': [-3.6956178, ...</td>\n      <td>'Calle Jesús nº 1'</td>\n      <td>STATION</td>\n      <td>STATION</td>\n      <td>{'type': 'Point', 'coordinates': [-3.7088337, ...</td>\n      <td>'Plaza de la Cebada nº 16 '</td>\n      <td>2023-02-01 00:05:41</td>\n      <td>31.0</td>\n      <td>27 - Huertas</td>\n      <td>43.0</td>\n      <td>39 - Plaza de la Cebada</td>\n    </tr>\n    <tr>\n      <th>NaT</th>\n      <td>NaN</td>\n      <td>NaN</td>\n      <td>NaN</td>\n      <td>NaN</td>\n      <td>NaN</td>\n      <td>NaN</td>\n      <td>NaN</td>\n      <td>NaN</td>\n      <td>NaN</td>\n      <td>NaT</td>\n      <td>NaN</td>\n      <td>NaN</td>\n      <td>NaN</td>\n      <td>NaN</td>\n    </tr>\n    <tr>\n      <th>2023-02-01 00:00:25</th>\n      <td>5098.0</td>\n      <td>1.0</td>\n      <td>0.32</td>\n      <td>{'type': 'Point', 'coordinates': [-3.7022591, ...</td>\n      <td>'Glorieta de Embajadores nº 2'</td>\n      <td>STATION</td>\n      <td>STATION</td>\n      <td>{'type': 'Point', 'coordinates': [-3.7022591, ...</td>\n      <td>'Glorieta de Embajadores nº 2'</td>\n      <td>2023-02-01 00:00:44</td>\n      <td>52.0</td>\n      <td>48 - Embajadores 2</td>\n      <td>52.0</td>\n      <td>48 - Embajadores 2</td>\n    </tr>\n    <tr>\n      <th>NaT</th>\n      <td>NaN</td>\n      <td>NaN</td>\n      <td>NaN</td>\n      <td>NaN</td>\n      <td>NaN</td>\n      <td>NaN</td>\n      <td>NaN</td>\n      <td>NaN</td>\n      <td>NaN</td>\n      <td>NaT</td>\n      <td>NaN</td>\n      <td>NaN</td>\n      <td>NaN</td>\n      <td>NaN</td>\n    </tr>\n  </tbody>\n</table>\n</div>"
     },
     "execution_count": 6,
     "metadata": {},
     "output_type": "execute_result"
    }
   ],
   "source": [
    "# prueba\n",
    "csvfile = csv_from_zip(url)\n",
    "usos = get_data(csvfile)\n",
    "usos.head()"
   ]
  },
  {
   "cell_type": "markdown",
   "metadata": {
    "id": "OZFFhbfoRt7x"
   },
   "source": [
    "### Explorar la estructura de los datos en el dataframe\n",
    "\n",
    "El método `info` devuelve información acerca de la estructura de un dataframe.\n",
    "\n",
    "__Se pide:__\n",
    "Escribe el código necesario para crear un dataframe llamado `usos` a partir de la url \"https://opendata.emtmadrid.es/getattachment/7a88cb04-9007-4520-88c5-a94c71a0b925/trips_23_02_February-csv.aspx\".\n",
    "Ejecuta el método `info()` sobre el dataframe y comenta los resultados.\n",
    "Fíjate en las columnas que representan fechas y comprueba su tipo de datos. ¿Cuántas filas se han cargado?. Fíjate en los valores distintos de `NaN` en cada una de las columnas."
   ]
  },
  {
   "cell_type": "code",
   "execution_count": 7,
   "metadata": {
    "id": "sc7qtntbRt7y",
    "ExecuteTime": {
     "end_time": "2023-11-10T19:51:04.145914100Z",
     "start_time": "2023-11-10T19:51:04.136440500Z"
    }
   },
   "outputs": [],
   "source": [
    "# Solución\n",
    "def csv_from_zip(url: str) -> TextIO:\n",
    "    \"\"\"\n",
    "    Descarga un archivo ZIP desde una URL, extrae el archivo CSV y lo devuelve como un objeto TextIO.\n",
    "    \n",
    "    Parameters:\n",
    "    --------\n",
    "    url: str\n",
    "        La URL del archivo ZIP que se debe descargar.\n",
    "        \n",
    "    Returns:\n",
    "    --------\n",
    "    Text IO\n",
    "        Un objeto TextIO que muestra el contenido del archivo CSV.\n",
    "        \n",
    "    Raises:\n",
    "    --------\n",
    "    ConnectionError\n",
    "        Si ocurre un error al descargar o extraer el archivo ZIP. \n",
    "    \"\"\"\n",
    "    try:\n",
    "        respuesta = requests.get(url)\n",
    "        respuesta.raise_for_status()\n",
    "        with zipfile.ZipFile(io.BytesIO(respuesta.content)) as z:\n",
    "            csv_nombre = [name for name in z.namelist() if name.endswith('.csv')][0]\n",
    "            with z.open(csv_nombre) as csv_file:\n",
    "                csv_contenido = io.StringIO(z.read(csv_nombre).decode('utf-8'))\n",
    "        return csv_contenido\n",
    "    except requests.exceptions.RequestException as e:\n",
    "        raise ConnectionError (\"No se puede descargar el archivo ZIP\") from e            "
   ]
  },
  {
   "cell_type": "code",
   "execution_count": 8,
   "outputs": [
    {
     "name": "stdout",
     "output_type": "stream",
     "text": [
      "<class 'pandas.core.frame.DataFrame'>\n",
      "DatetimeIndex: 336988 entries, NaT to 2023-02-18 07:22:48\n",
      "Data columns (total 14 columns):\n",
      " #   Column               Non-Null Count   Dtype         \n",
      "---  ------               --------------   -----         \n",
      " 0   idBike               168494 non-null  float64       \n",
      " 1   fleet                168494 non-null  float64       \n",
      " 2   trip_minutes         168494 non-null  float64       \n",
      " 3   geolocation_unlock   168494 non-null  object        \n",
      " 4   address_unlock       168494 non-null  object        \n",
      " 5   locktype             168494 non-null  object        \n",
      " 6   unlocktype           168494 non-null  object        \n",
      " 7   geolocation_lock     168494 non-null  object        \n",
      " 8   address_lock         168494 non-null  object        \n",
      " 9   lock_date            168494 non-null  datetime64[ns]\n",
      " 10  station_unlock       168114 non-null  float64       \n",
      " 11  unlock_station_name  168114 non-null  object        \n",
      " 12  station_lock         168018 non-null  float64       \n",
      " 13  lock_station_name    168018 non-null  object        \n",
      "dtypes: datetime64[ns](1), float64(5), object(8)\n",
      "memory usage: 38.6+ MB\n"
     ]
    }
   ],
   "source": [
    "# Prueba\n",
    "archivo_csv = csv_from_zip(\"https://opendata.emtmadrid.es/getattachment/7a88cb04-9007-4520-88c5-a94c71a0b925/trips_23_02_February-csv.aspx\")\n",
    "usos = get_data(archivo_csv)\n",
    "usos.info()"
   ],
   "metadata": {
    "collapsed": false,
    "ExecuteTime": {
     "end_time": "2023-11-10T19:51:06.985129400Z",
     "start_time": "2023-11-10T19:51:04.145155300Z"
    }
   }
  },
  {
   "cell_type": "markdown",
   "source": [
    "- El DataFrame tiene 336.988 entradas y cuenta con las 14 columnas de interés.\n",
    "- Contamos con 5 columnas de tipo 'float64', 8 de tipo 'object' (sus valores suelen ser cadenas de texto) y 1 de tipo 'datetime64[ns]' (indicado para horas y fechas).\n",
    "- El índice del DataFrame corresponde a la fecha en la que tuvo lugar el viaje ('DatetimeIndex'). \n",
    "- El tipo de valor temporal 'datetime64[ns]' de 'lock_date' es el adecuado para nuestro caso de uso. \n",
    "- 38,6 MB de espacio ocupado.\n",
    "- Todas las columnas tiene un considerable número de valores 'NaN'. Este hecho refleja que existen numerosos registros o entradas incompletas. \n",
    "  Como es el caso del campo identificador de bicicletas 'idBike'.  \n",
    "- Las variables asociadas a las estaciones ('station_unlock', 'unlock_station_name', 'station_lock', 'lock_station_name') cuentan con un mayor número de nulos, \n",
    "  respecto al resto de campos.   "
   ],
   "metadata": {
    "collapsed": false
   }
  },
  {
   "cell_type": "markdown",
   "metadata": {
    "id": "7OwHFc6SRt7z"
   },
   "source": [
    "### Borrado de valores NaN.\n",
    "\n",
    "El método  `dropna` de los DataFrames tiene un argumento `how` que permite indicar que se borren filas o columnas donde todos los valores son `NaN`.\n",
    "\n",
    "__Se pide:__ Crear una función llamada `delete_nan_rows` que borre las filas con todos sus valores `NaN` de un dataframe recibido como argumento. La función modifica el dataframe y no devuelve nada.  \n",
    "\n",
    "Comenta los resultados. Prueba la función `delete_nan_rows` con el dataframe `usos`. Comprueba que el número de filas del dataframe `usos` ha cambiado. Puedes volver a ejecutar el método `info` y compáralo con el resultado antes de invocar a la función `delete_nan_rows`."
   ]
  },
  {
   "cell_type": "code",
   "execution_count": 9,
   "metadata": {
    "id": "eoZVNPk2Rt70",
    "ExecuteTime": {
     "end_time": "2023-11-10T19:51:07.008231300Z",
     "start_time": "2023-11-10T19:51:06.988184400Z"
    }
   },
   "outputs": [],
   "source": [
    "# Solución\n",
    "def delete_nan_rows(df: pd.DataFrame) -> None:\n",
    "    \"\"\"\n",
    "    Borra todas las filas del DataFrame donde todos sus valores son 'NaN'.\n",
    "    \n",
    "    Parameters:\n",
    "    --------\n",
    "    df: pd.DataFrame\n",
    "        El DataFrame a modificar. \n",
    "    \n",
    "    Returns:\n",
    "    --------\n",
    "    No devuelve nada.  \n",
    "    \"\"\"\n",
    "    df.dropna(axis=0, how='all', inplace=True)"
   ]
  },
  {
   "cell_type": "code",
   "execution_count": 10,
   "outputs": [
    {
     "name": "stdout",
     "output_type": "stream",
     "text": [
      "Antes de borrar filas con 'NaN'\n",
      "<class 'pandas.core.frame.DataFrame'>\n",
      "DatetimeIndex: 336988 entries, NaT to 2023-02-18 07:22:48\n",
      "Data columns (total 14 columns):\n",
      " #   Column               Non-Null Count   Dtype         \n",
      "---  ------               --------------   -----         \n",
      " 0   idBike               168494 non-null  float64       \n",
      " 1   fleet                168494 non-null  float64       \n",
      " 2   trip_minutes         168494 non-null  float64       \n",
      " 3   geolocation_unlock   168494 non-null  object        \n",
      " 4   address_unlock       168494 non-null  object        \n",
      " 5   locktype             168494 non-null  object        \n",
      " 6   unlocktype           168494 non-null  object        \n",
      " 7   geolocation_lock     168494 non-null  object        \n",
      " 8   address_lock         168494 non-null  object        \n",
      " 9   lock_date            168494 non-null  datetime64[ns]\n",
      " 10  station_unlock       168114 non-null  float64       \n",
      " 11  unlock_station_name  168114 non-null  object        \n",
      " 12  station_lock         168018 non-null  float64       \n",
      " 13  lock_station_name    168018 non-null  object        \n",
      "dtypes: datetime64[ns](1), float64(5), object(8)\n",
      "memory usage: 38.6+ MB\n",
      "\n",
      "Después de borrar filas con 'NaN'\n",
      "<class 'pandas.core.frame.DataFrame'>\n",
      "DatetimeIndex: 168494 entries, 2023-02-01 00:00:10 to 2023-02-18 07:22:48\n",
      "Data columns (total 14 columns):\n",
      " #   Column               Non-Null Count   Dtype         \n",
      "---  ------               --------------   -----         \n",
      " 0   idBike               168494 non-null  float64       \n",
      " 1   fleet                168494 non-null  float64       \n",
      " 2   trip_minutes         168494 non-null  float64       \n",
      " 3   geolocation_unlock   168494 non-null  object        \n",
      " 4   address_unlock       168494 non-null  object        \n",
      " 5   locktype             168494 non-null  object        \n",
      " 6   unlocktype           168494 non-null  object        \n",
      " 7   geolocation_lock     168494 non-null  object        \n",
      " 8   address_lock         168494 non-null  object        \n",
      " 9   lock_date            168494 non-null  datetime64[ns]\n",
      " 10  station_unlock       168114 non-null  float64       \n",
      " 11  unlock_station_name  168114 non-null  object        \n",
      " 12  station_lock         168018 non-null  float64       \n",
      " 13  lock_station_name    168018 non-null  object        \n",
      "dtypes: datetime64[ns](1), float64(5), object(8)\n",
      "memory usage: 19.3+ MB\n"
     ]
    }
   ],
   "source": [
    "# Prueba\n",
    "print(\"Antes de borrar filas con 'NaN'\")\n",
    "usos.info()\n",
    "delete_nan_rows(usos)\n",
    "print(\"\\nDespués de borrar filas con 'NaN'\")\n",
    "usos.info()"
   ],
   "metadata": {
    "collapsed": false,
    "ExecuteTime": {
     "end_time": "2023-11-10T19:51:07.173083300Z",
     "start_time": "2023-11-10T19:51:06.994939800Z"
    }
   }
  },
  {
   "cell_type": "markdown",
   "source": [
    "Comparando la información del dataframe usos antes y después de invocar a la función 'delete_nan_rows', alcanzo las siguientes conclusiones:\n",
    "- Se han eliminado 168.494 filas del dataframe 'usos' que tenían todos sus valores como 'NaN'. \n",
    "- Tras la invocación de la función 'delete_nan_rows' el dataframe cuenta con 168.494 registros, que es justamente la mitad que antes de la invocación.\n",
    "- Las columnas 'station_unlock', 'unlock_station_name', 'station_lock' y 'lock_station_name' siguen teniendo menos valores no nulos que el total de las entradas del dataframe. \n",
    "  Ésto nos indica que áun tenemos valores 'Nan' en estos campos. \n",
    "- El uso de memoria se ha ajustado casi a la mitad, pasando de 38,6 MB a 19,3 MB.   "
   ],
   "metadata": {
    "collapsed": false
   }
  },
  {
   "cell_type": "markdown",
   "metadata": {
    "id": "M9oCNyRdRt71"
   },
   "source": [
    "###  Exploración de las columnas.\n",
    "\n",
    "La columna `fleet` representa el tipo de flota de bicicleta eléctrica.\n",
    "Las BiciMAD Go son free floating y se corresponden con tipo de flota 2. A diferencia de las BiciMAD normales, no tienen por qué dejarse en una estación de bicicletas, aunque existe la posibilidad de hacerlo. Su bloqueo se realiza por medio de un candado manual, aspecto en el que se diferencian de las otras bicis municipales.\n",
    "\n",
    "Por otro lado, las columnas `locktype` y `unlocktype` tienen información del tipo de bloqueo y desbloqueo respectivamente.\n",
    "\n",
    "__Se pide:__\n",
    "* ¿Cuántos valores distintos hay en la columna `fleet` del dataframe `usos`?\n",
    "* ¿Cuántos valores distintos hay en las columnas `locktype` y `unlocktype` del dataframe `usos`?"
   ]
  },
  {
   "cell_type": "code",
   "execution_count": 11,
   "outputs": [
    {
     "name": "stdout",
     "output_type": "stream",
     "text": [
      "La columna 'fleet' tiene 2 valores distintos\n",
      "La columna 'locktype' tiene 2 valores distintos\n",
      "La columna 'unlocktype' tiene 2 valores distintos\n"
     ]
    }
   ],
   "source": [
    "# Solución\n",
    "print(f\"La columna 'fleet' tiene {usos['fleet'].nunique()} valores distintos\")\n",
    "print(f\"La columna 'locktype' tiene {usos['locktype'].nunique()} valores distintos\")\n",
    "print(f\"La columna 'unlocktype' tiene {usos['unlocktype'].nunique()} valores distintos\")"
   ],
   "metadata": {
    "collapsed": false,
    "ExecuteTime": {
     "end_time": "2023-11-10T19:51:07.302794100Z",
     "start_time": "2023-11-10T19:51:07.175842100Z"
    }
   }
  },
  {
   "cell_type": "markdown",
   "metadata": {
    "id": "r2z0lErlRt73"
   },
   "source": [
    "### Cambio de tipo de datos\n",
    "\n",
    "Las columnas  `idBike` y `fleet`  tienen tipo float, pero en realidad representan un identificador de bicicleta y de flota respectivamente.\n",
    "\n",
    "__Se pide:__ Crear una función llamada `float_to_str` que cambie el tipo de una columna a tipo string. La función recibe como argumentos un dataframe y el nombre de una columna. La función no devuelve nada.\n",
    "Si la columna no se encuentra entre las columnas del dataframe, la función no hace nada.\n",
    "\n",
    "__Observaciones:__ Puedes usar la función `map` para aplicar la función de transformación.\n",
    "\n",
    "Prueba la función con el datafame `usos` y  las columnas `idBike` y `fleet`.\n",
    "De esta forma, el identificador de bicicleta `7337.0` pasará a ser `'7337'`. Ejecuta la función `info` sobre el dataframe `usos` para comprobar que los tipos asociados a esas columnas han cambiado."
   ]
  },
  {
   "cell_type": "code",
   "execution_count": 12,
   "metadata": {
    "id": "RCMPy5x0Rt74",
    "ExecuteTime": {
     "end_time": "2023-11-10T19:51:07.303289400Z",
     "start_time": "2023-11-10T19:51:07.209427500Z"
    }
   },
   "outputs": [],
   "source": [
    "# Solución\n",
    "def float_to_str(df: pd.DataFrame, column_name: str) -> None:\n",
    "    \"\"\"\n",
    "    Cambia el tipo de una columna de un dataframe a string.\n",
    "    \n",
    "    Parameters:\n",
    "    --------\n",
    "    df: pd.DataFrame\n",
    "        El dataframe que se debe modificar.\n",
    "    column_name: str\n",
    "        El nombre de la columna a la que vamos a cambiar de tipo. \n",
    "        \n",
    "    Returns:\n",
    "    --------\n",
    "    No devuelve nada.  \n",
    "    \"\"\"\n",
    "    if column_name in df.columns:\n",
    "        df[column_name] = df[column_name].map(lambda x: str(int(x)) if pd.notnull(x) else x)"
   ]
  },
  {
   "cell_type": "code",
   "execution_count": 13,
   "outputs": [
    {
     "name": "stdout",
     "output_type": "stream",
     "text": [
      "<class 'pandas.core.frame.DataFrame'>\n",
      "DatetimeIndex: 168494 entries, 2023-02-01 00:00:10 to 2023-02-18 07:22:48\n",
      "Data columns (total 14 columns):\n",
      " #   Column               Non-Null Count   Dtype         \n",
      "---  ------               --------------   -----         \n",
      " 0   idBike               168494 non-null  object        \n",
      " 1   fleet                168494 non-null  object        \n",
      " 2   trip_minutes         168494 non-null  float64       \n",
      " 3   geolocation_unlock   168494 non-null  object        \n",
      " 4   address_unlock       168494 non-null  object        \n",
      " 5   locktype             168494 non-null  object        \n",
      " 6   unlocktype           168494 non-null  object        \n",
      " 7   geolocation_lock     168494 non-null  object        \n",
      " 8   address_lock         168494 non-null  object        \n",
      " 9   lock_date            168494 non-null  datetime64[ns]\n",
      " 10  station_unlock       168114 non-null  float64       \n",
      " 11  unlock_station_name  168114 non-null  object        \n",
      " 12  station_lock         168018 non-null  float64       \n",
      " 13  lock_station_name    168018 non-null  object        \n",
      "dtypes: datetime64[ns](1), float64(3), object(10)\n",
      "memory usage: 19.3+ MB\n"
     ]
    }
   ],
   "source": [
    "# Prueba\n",
    "float_to_str(usos, 'idBike')\n",
    "float_to_str(usos, 'fleet')\n",
    "usos.info()"
   ],
   "metadata": {
    "collapsed": false,
    "ExecuteTime": {
     "end_time": "2023-11-10T19:51:07.444426800Z",
     "start_time": "2023-11-10T19:51:07.214547600Z"
    }
   }
  },
  {
   "cell_type": "markdown",
   "source": [
    "- Verificamos que el tipo de dato de los campos 'idBike' y 'fleet' ha cambiado de 'float64' a 'object'. \n",
    "  Este es el tipo que Pandas suele utilizar para representar cadenas de texto.\n",
    "- Tiene sentido que en la función hayamos convertido el tipo 'float64' a 'int' prescindiendo de la parte decimal, antes de convertirlo a 'str'.  \n",
    "  Ya que en el contexto de los identificadores, generalmente no queremos la parte decimal '.0' en el resultado. \n",
    "  Como ocurre con el identificador 7337.0 de tipo flotante, que pasa a ser la cadena de texto \"7337\". "
   ],
   "metadata": {
    "collapsed": false
   }
  },
  {
   "cell_type": "markdown",
   "metadata": {
    "id": "Uv_pgIa5Rt76"
   },
   "source": [
    "## Consultas\n",
    "\n",
    "Las siguientes consultas se realizarán con el dataframe `usos` creado en los apartados anteriores."
   ]
  },
  {
   "cell_type": "markdown",
   "metadata": {
    "id": "CaYkWlwxRt76"
   },
   "source": [
    "### C1\n",
    "\n",
    "¿Cuántas bicicletas han sido desbloqueadas de una estación y no se bloquean en ninguna?"
   ]
  },
  {
   "cell_type": "code",
   "execution_count": 14,
   "metadata": {
    "id": "40XRntcJRt77",
    "ExecuteTime": {
     "end_time": "2023-11-10T19:51:07.475239700Z",
     "start_time": "2023-11-10T19:51:07.449143800Z"
    }
   },
   "outputs": [
    {
     "data": {
      "text/plain": "168"
     },
     "execution_count": 14,
     "metadata": {},
     "output_type": "execute_result"
    }
   ],
   "source": [
    "# Solución\n",
    "# Filtra los registros en los que la bicicleta fue desbloqueada en alguna estación y no se bloqueó en ninguna.\n",
    "# Recupera la cantidad con el método len().\n",
    "bicis_desbloqueadas_no_bloqueadas = len(usos[(usos['station_unlock'].notnull()) & (usos['station_lock'].isnull())])\n",
    "bicis_desbloqueadas_no_bloqueadas"
   ]
  },
  {
   "cell_type": "markdown",
   "metadata": {
    "id": "fhuXXgEZRt77"
   },
   "source": [
    "### C2\n",
    "\n",
    "Seleccionar solo las bicicletas del tipo de flota '1'. El nuevo dataframe se ha de llamar `regular_fleet`."
   ]
  },
  {
   "cell_type": "code",
   "execution_count": 15,
   "metadata": {
    "id": "eX7P4rMcRt78",
    "ExecuteTime": {
     "end_time": "2023-11-10T19:51:07.658732300Z",
     "start_time": "2023-11-10T19:51:07.465551300Z"
    }
   },
   "outputs": [
    {
     "name": "stdout",
     "output_type": "stream",
     "text": [
      "<class 'pandas.core.frame.DataFrame'>\n",
      "DatetimeIndex: 167692 entries, 2023-02-01 00:00:10 to 2023-02-18 07:22:48\n",
      "Data columns (total 14 columns):\n",
      " #   Column               Non-Null Count   Dtype         \n",
      "---  ------               --------------   -----         \n",
      " 0   idBike               167692 non-null  object        \n",
      " 1   fleet                167692 non-null  object        \n",
      " 2   trip_minutes         167692 non-null  float64       \n",
      " 3   geolocation_unlock   167692 non-null  object        \n",
      " 4   address_unlock       167692 non-null  object        \n",
      " 5   locktype             167692 non-null  object        \n",
      " 6   unlocktype           167692 non-null  object        \n",
      " 7   geolocation_lock     167692 non-null  object        \n",
      " 8   address_lock         167692 non-null  object        \n",
      " 9   lock_date            167692 non-null  datetime64[ns]\n",
      " 10  station_unlock       167692 non-null  float64       \n",
      " 11  unlock_station_name  167692 non-null  object        \n",
      " 12  station_lock         167692 non-null  float64       \n",
      " 13  lock_station_name    167692 non-null  object        \n",
      "dtypes: datetime64[ns](1), float64(3), object(10)\n",
      "memory usage: 19.2+ MB\n"
     ]
    }
   ],
   "source": [
    "# Solución\n",
    "regular_fleet = usos[usos['fleet'] == '1']\n",
    "regular_fleet.info()"
   ]
  },
  {
   "cell_type": "markdown",
   "metadata": {
    "id": "dTibdtq7Rt78"
   },
   "source": [
    "### C3\n",
    "\n",
    "Crea una función llamada `day_time` para calcular las horas totales de uso de bicicletas por día del mes.\n",
    "La función recibe un dataframe y devuelve una Serie donde el índice es la fecha y el valor es el número de horas.\n",
    "\n",
    "Prueba la función anterior con el dataframe  `usos`.\n",
    "\n",
    "__Opcional:__ Dibuja un diagrama de barras con el resultado de la función `day_time` sobre el dataframe `usos`. Utiliza el módulo `matplotlib.pyplot`."
   ]
  },
  {
   "cell_type": "code",
   "execution_count": 16,
   "metadata": {
    "id": "6d6wGqeDRt78",
    "ExecuteTime": {
     "end_time": "2023-11-10T19:51:07.660340400Z",
     "start_time": "2023-11-10T19:51:07.550510500Z"
    }
   },
   "outputs": [
    {
     "data": {
      "text/plain": "unlock_date\n2023-02-01    4160.538500\n2023-02-02    3435.122333\n2023-02-03    3456.311667\n2023-02-04    3640.818667\n2023-02-05    3263.938167\n2023-02-06    3372.989167\n2023-02-07    2874.889500\n2023-02-08    3446.484000\n2023-02-09    3514.816500\n2023-02-10    3596.700667\nFreq: D, Name: trip_hours, dtype: float64"
     },
     "execution_count": 16,
     "metadata": {},
     "output_type": "execute_result"
    }
   ],
   "source": [
    "# Solución\n",
    "def day_time(df: pd.DataFrame) -> pd.Series:\n",
    "    \"\"\"\n",
    "    Calcula las horas totales de uso de bicicletas por día del mes.\n",
    "    \n",
    "    Parameters:\n",
    "    -------- \n",
    "    df: pd.DataFrame\n",
    "        El dataframe a analizar.\n",
    "        \n",
    "    Returns:\n",
    "    -------- \n",
    "    pd.Series: \n",
    "        Una serie donde el índice es la fecha y el valor es el número de horas.  \n",
    "    \"\"\"\n",
    "    # Convertir la columna 'trip_minutes' a horas\n",
    "    df['trip_hours'] = df['trip_minutes'] / 60\n",
    "    \n",
    "    # Agrupar por día y sumar las horas de viaje\n",
    "    uso_diario = df.resample('D')['trip_hours'].sum()\n",
    "    \n",
    "    return uso_diario\n",
    "\n",
    "# Probando la función con el dataframe 'usos'\n",
    "uso_diario_usos = day_time(usos)\n",
    "uso_diario_usos.head(10)"
   ]
  },
  {
   "cell_type": "code",
   "execution_count": 17,
   "outputs": [
    {
     "data": {
      "text/plain": "<Figure size 1000x500 with 1 Axes>",
      "image/png": "[encoded data removed]"
     },
     "metadata": {},
     "output_type": "display_data"
    }
   ],
   "source": [
    "# Visualización de las horas totales de uso de las bicicletas\n",
    "\n",
    "plt.figure(figsize=(10,5))\n",
    "uso_diario_usos.plot(kind='bar', color='limegreen')\n",
    "plt.title('Uso Total de Bicicletas por Día')\n",
    "plt.xlabel('Día')\n",
    "plt.ylabel('Horas Totales de Uso')\n",
    "plt.grid(axis='y', linestyle='dashed', alpha=0.7)\n",
    "plt.xticks(rotation=45)\n",
    "plt.tight_layout()\n",
    "plt.show()"
   ],
   "metadata": {
    "collapsed": false,
    "ExecuteTime": {
     "end_time": "2023-11-10T19:51:07.860797800Z",
     "start_time": "2023-11-10T19:51:07.611791Z"
    }
   }
  },
  {
   "cell_type": "markdown",
   "metadata": {
    "id": "WR8sWYEARt7-"
   },
   "source": [
    "### C4\n",
    "\n",
    "Crea una función llamada `weekday_time` para calcular las horas totales de uso de bicicletas por día de la semana. La función recibe un dataframe y devuelve una Serie donde el índice es el día de la semana (L, M, X, J, V, S, D) y el valor es el número de horas.\n",
    "\n",
    "Prueba la función anterior con el dataframe usos.\n",
    "\n"
   ]
  },
  {
   "cell_type": "code",
   "execution_count": 18,
   "metadata": {
    "id": "Jn12PnM8Rt7-",
    "ExecuteTime": {
     "end_time": "2023-11-10T19:51:07.884911300Z",
     "start_time": "2023-11-10T19:51:07.852149200Z"
    }
   },
   "outputs": [
    {
     "data": {
      "text/plain": "weekday\nL     6494.488500\nM     5626.440667\nX    10349.659667\nJ     9412.645333\nV     8958.274000\nS     6781.029667\nD     6267.562167\nName: trip_hours, dtype: float64"
     },
     "execution_count": 18,
     "metadata": {},
     "output_type": "execute_result"
    }
   ],
   "source": [
    "# Solución\n",
    "def weekday_time(df: pd.DataFrame) -> pd.Series:\n",
    "    \"\"\"\n",
    "    Calcula las horas totales de uso de bicicletas por día de la semana.\n",
    "    \n",
    "    Parameters:\n",
    "    --------\n",
    "    df: pd.DataFrame\n",
    "        El dataframe a analizar.\n",
    "        \n",
    "    Returns:\n",
    "    --------\n",
    "    pd.Series: \n",
    "        Una serie donde el índice es el día de la semana (L, M, X, J, V, S, D) y\n",
    "        el valor es el número de horas.    \n",
    "    \"\"\"\n",
    "    # Transformar la columna 'trip_minutes' a horas si no está convertida\n",
    "    if 'trip_hours' not in df.columns:\n",
    "        df['trip_hours'] = df['trip_minutes'] / 60\n",
    "        \n",
    "    # Crear una columna en base al día de la semana (0 del lunes hasta el 6 del domingo)\n",
    "    df['weekday'] = df.index.dayofweek\n",
    "    \n",
    "    # Imputamos a cada número su correspondiente día de la semana\n",
    "    days = {0: 'L', 1: 'M', 2: 'X', 3: 'J', 4: 'V', 5: 'S', 6: 'D'}\n",
    "    df['weekday'] = df['weekday'].map(days)\n",
    "    \n",
    "    # Agrupar por día de la semana y sumar las horas de viaje\n",
    "    uso_semanal = df.groupby('weekday')['trip_hours'].sum()\n",
    "    \n",
    "    # Ordenar los días de la semana\n",
    "    uso_semanal = uso_semanal.reindex(['L', 'M', 'X', 'J', 'V', 'S', 'D'])\n",
    "    \n",
    "    return uso_semanal\n",
    "\n",
    "# Probamos la función con el dataframe 'usos'\n",
    "uso_semanal_usos = weekday_time(usos)\n",
    "uso_semanal_usos"
   ]
  },
  {
   "cell_type": "markdown",
   "metadata": {
    "id": "fZsovUR3Rt7_"
   },
   "source": [
    "### C5\n",
    "\n",
    "Crea una función llamada `total_usage_day` para calcular el número total de usos de bicicletas por día del mes. La función recibe un dataframe y devuelve una Serie donde el índice es la fecha y el valor es el número de usos.\n",
    "\n",
    "Prueba la función anterior con el dataframe usos.\n",
    "\n"
   ]
  },
  {
   "cell_type": "code",
   "execution_count": 19,
   "metadata": {
    "id": "FiFDLZ_eRt7_",
    "ExecuteTime": {
     "end_time": "2023-11-10T19:51:08.014152200Z",
     "start_time": "2023-11-10T19:51:07.882912500Z"
    }
   },
   "outputs": [
    {
     "data": {
      "text/plain": "unlock_date\n2023-02-01    11442\n2023-02-02    11069\n2023-02-03    10166\nFreq: D, dtype: int64"
     },
     "execution_count": 19,
     "metadata": {},
     "output_type": "execute_result"
    }
   ],
   "source": [
    "# Solución\n",
    "def total_usage_day(df: pd.DataFrame) -> pd.Series:\n",
    "    \"\"\"\n",
    "    Calcula el número total de uso de bicicletas por día del mes.\n",
    "    \n",
    "    Parameters:\n",
    "    --------\n",
    "    df: pd.DataFrame\n",
    "        El dataframe a analizar.\n",
    "        \n",
    "    Returns:\n",
    "    --------\n",
    "    pd.Series: \n",
    "        Serie con la fecha como índice y el número de usos como valor.\n",
    "    \"\"\"\n",
    "    usos_diarios = df.resample('D').size()\n",
    "    \n",
    "    return usos_diarios\n",
    "\n",
    "# Probamos la función con el dataframe 'usos'\n",
    "usos_diarios = total_usage_day(usos)\n",
    "usos_diarios.head(3)"
   ]
  },
  {
   "cell_type": "markdown",
   "metadata": {
    "id": "E8vBxvOoRp-X"
   },
   "source": [
    "### C6\n",
    "\n",
    "Calcular el total de usos por fecha y estación de desbloqueo. Como la fecha está en el índice y la estación de desbloqueo es una columna, lo mejor es agrupar por la columna `station_unlock` y  un objeto `Grouper` de frecuencia diaria (1D).\n",
    "\n",
    "A continuación, se muestra un ejemplo del funcionamiento de la función Grouper de pandas:\n",
    "```\n",
    ">>> df\n",
    "             ID  Price\n",
    "2000-01-02   0     10\n",
    "2000-01-02   1     20\n",
    "2000-01-09   2     30\n",
    "2000-01-16   3     40\n",
    "\n",
    "# Grouper con frecuencia semanal (1W)\n",
    ">>> df.groupby(pd.Grouper(freq=\"1W\")).mean()\n",
    "               ID  Price\n",
    "\n",
    "2000-01-02    0.5   15.0\n",
    "2000-01-09    2.0   30.0\n",
    "2000-01-16    3.0   40.0\n",
    "```"
   ]
  },
  {
   "cell_type": "code",
   "execution_count": 20,
   "metadata": {
    "id": "1npzyihsRllj",
    "ExecuteTime": {
     "end_time": "2023-11-10T19:51:08.049261800Z",
     "start_time": "2023-11-10T19:51:07.946998600Z"
    }
   },
   "outputs": [
    {
     "data": {
      "text/plain": "station_unlock  unlock_date\n1.0             2023-02-01     31\n                2023-02-02     21\n                2023-02-03     29\ndtype: int64"
     },
     "execution_count": 20,
     "metadata": {},
     "output_type": "execute_result"
    }
   ],
   "source": [
    "# Solución\n",
    "# Agrupa por estación de desbloqueo y por día, y cuenta el número de usos para cada agrupación. \n",
    "usos_por_fecha_y_estacion = usos.groupby(['station_unlock', pd.Grouper(freq='1D')]).size()\n",
    "\n",
    "# Mostramos el resultado de los tres primeros días.\n",
    "usos_por_fecha_y_estacion.head(3)"
   ]
  },
  {
   "cell_type": "markdown",
   "metadata": {
    "id": "qwk5RM_fZSNx"
   },
   "source": [
    "### C7\n",
    "\n",
    "Se quiere averiguar la dirección de las estaciones de desbloqueo que a lo largo del mes han tenido un mayor número de viajes. Crear una función llamada `most_popular_stations` que calcule dicho dato. El argumento de la función es un dataframe y devuelve un conjunto con la dirección de las estaciones.\n",
    "\n"
   ]
  },
  {
   "cell_type": "code",
   "execution_count": 21,
   "metadata": {
    "id": "l9ir9mpDRndL",
    "ExecuteTime": {
     "end_time": "2023-11-10T19:51:08.051685600Z",
     "start_time": "2023-11-10T19:51:08.018859100Z"
    }
   },
   "outputs": [
    {
     "data": {
      "text/plain": "{'39 - Plaza de la Cebada'}"
     },
     "execution_count": 21,
     "metadata": {},
     "output_type": "execute_result"
    }
   ],
   "source": [
    "# Solución\n",
    "\n",
    "def most_popular_stations(df: pd.DataFrame) -> set:\n",
    "    \"\"\"\n",
    "    Calcula las estaciones de desbloqueo que a lo largo del mes han tenido un mayor número de viajes. \n",
    "    \n",
    "    Parameters:\n",
    "    --------\n",
    "    df: pd.DataFrame\n",
    "        El dataframe a analizar.\n",
    "        \n",
    "    Returns:\n",
    "    --------\n",
    "    set: \n",
    "        Conjunto con la dirección de las estaciones más populares. \n",
    "    \"\"\"\n",
    "    # Agrupamos por dirección de la estación de desbloqueo y contamos el número de viajes\n",
    "    conteo_estacion = df.groupby('unlock_station_name').size()\n",
    "    \n",
    "    # Encontramos el valor que corresponde al mayor número de viajes\n",
    "    maximo_viajes = conteo_estacion.max()\n",
    "    \n",
    "    # Encontramos las estaciones que corresponden al mayor número de viajes\n",
    "    estaciones_mas_populares = conteo_estacion[conteo_estacion == maximo_viajes].index\n",
    "    \n",
    "    # Convertimos el índice (que contiene las direcciones de las estaciones) a un conjunto\n",
    "    direcciones = set(estaciones_mas_populares)\n",
    "    \n",
    "    return direcciones\n",
    "\n",
    "# Probamos la función con el dataframe 'usos'\n",
    "estaciones_populares = most_popular_stations(usos)\n",
    "estaciones_populares"
   ]
  },
  {
   "cell_type": "markdown",
   "metadata": {
    "id": "zgsXCHqhGqTF"
   },
   "source": [
    "### C8\n",
    "\n",
    "Se quiere averiguar el  número de usos de las estaciones de desbloqueo que a lo largo del mes ha tenido un mayor número de viajes. Crear una función llamada `usage_from_most_popular_station` que calcule dicho dato. El argumento de la función es un dataframe y devuelve un entero."
   ]
  },
  {
   "cell_type": "code",
   "execution_count": 22,
   "metadata": {
    "id": "ErFkNzBnG56I",
    "ExecuteTime": {
     "end_time": "2023-11-10T19:51:08.120879500Z",
     "start_time": "2023-11-10T19:51:08.049261800Z"
    }
   },
   "outputs": [
    {
     "data": {
      "text/plain": "2189"
     },
     "execution_count": 22,
     "metadata": {},
     "output_type": "execute_result"
    }
   ],
   "source": [
    "# Solución\n",
    "def usage_from_most_popular_unlock_station(df: pd.DataFrame) -> int:\n",
    "    \"\"\"\n",
    "    Calcula el número de usos de las estaciones de desbloqueo que a lo largo del mes han tenido una mayor números de viajes.\n",
    "    \n",
    "    Parameters:\n",
    "    --------\n",
    "    df: pd.DataFrame\n",
    "        El dataframe a analizar.\n",
    "        \n",
    "    Returns:\n",
    "    --------\n",
    "    int: \n",
    "        Número de usos de la estación de desbloqueo más popular. \n",
    "    \"\"\"\n",
    "    # Agrupamos por estación de desbloqueo y contamos el número de viajes\n",
    "    conteo_estacion = df.groupby('station_unlock').size()\n",
    "    \n",
    "    # Encontramos el valor que corresponde al mayor número de viajes\n",
    "    maximo_viajes = conteo_estacion.max()\n",
    "    \n",
    "    return maximo_viajes\n",
    "\n",
    "# Probamos la función con el dataframe 'usos'\n",
    "uso_estacion_mas_popular = usage_from_most_popular_unlock_station(usos)\n",
    "uso_estacion_mas_popular"
   ]
  },
  {
   "cell_type": "markdown",
   "metadata": {
    "id": "JfW0nwRk63uY"
   },
   "source": [
    "# ETAPA 2: Construcción del módulo bicimad\n",
    "\n",
    "En esta sección se proporcionan algunas instrucciones para la creación del módulo `bicimad`.\n",
    "La gran mayoría de métodos y funciones pedidas aquí, se han implementado de alguna manera en la sección anterior, por lo que la construcción del módulo y las clases que se pide a continuación es en gran medida una reorganización de código. El módulo `bicimad` debe exportar las clases `UrlEMT` y `BiciMad` descritas a continuación."
   ]
  },
  {
   "cell_type": "markdown",
   "metadata": {
    "id": "Y4Nl4HKTRt7_"
   },
   "source": [
    "\n",
    "\n",
    "## Clase `UrlEMT`\n",
    "\n",
    "Vamos a crear una clase que permita recopilar todos los enlaces que hay en la web de la EMT (https://opendata.emtmadrid.es/Datos-estaticos/Datos-generales-(1)), que se corresponden con datos de uso de bicicletas desde Junio de 2021. Los enlaces que cumplen esta restricción son los que denominaremos a partir de ahora _enlaces válidos_. Estos enlaces contienen la cadena `trips_YY_MM_monthName.csv` donde `YY` representa el año, `MM` representa el mes y `monthName` representa el nombre del mes en inglés.\n",
    "\n",
    "\n",
    "__Requisitos:__\n",
    "\n",
    "* La clase ha de contener dos constantes de clase:\n",
    "```\n",
    "EMT = 'https://opendata.emtmadrid.es/'\n",
    "GENERAL = \"/Datos-estaticos/Datos-generales-(1)\"\n",
    "```\n",
    "\n",
    "* Los objetos de la clase tienen un único atributo privado que representa el conjunto enlaces válidos que se encuentran en el sitio web de la EMT.\n",
    "\n",
    "* Ha de contener al menos los siguientes métodos:\n",
    "\n",
    "    * `__init__`: método constructor sin argumentos.\n",
    "    * `select_valid_urls`: método estático que se encarga de actualizar el atributo de los objetos de la clase. Devuelve un conjunto de enlaces válidos. Si la petición al servidor de la EMT devuelve un código de retorno distinto de 200, la función lanza una excepción de tipo `ConnectionError`.\n",
    "    \n",
    "    * Para extraer los enlaces hay que definir una funcion `get_links` que tome como parámetros un texto HTML y devuelva un conjunto con todos los enlaces.\n",
    "    Esta función debe usar expresiones regulares para encontrar los enlaces.\n",
    "\n",
    "    * `get_url`: método de instancia que acepta los argumentos de tipo entero `month` y `year` y devuelve el string de la URL correspondiente al mes `month` y año `year`.  Si no existe un enlace válido correspondiente al mes `month` y año `year`, se lanzará una excepción de tipo `ValueError`. Se deberá comprobar que el mes y año se corresponden con valores válidos (`month` entre 1 y 12, `year` entre 21 y 23).\n",
    "\n",
    "    * `get_csv`: método de instancia que acepta los argumentos de tipo entero `month` y `year` y devuelve  un fichero en formato CSV correspondiente al mes `month` y año `year`.\n",
    "     El tipo del objeto devuelto es TextIO. La función lanzará una excepción de tipo `ConnectionError` en caso de que falle la petición al servidor de la EMT. En este caso, se podrá aprovechar el código de la función `csv_from_ZIP` implementada en la sección anterior.\n",
    "\n"
   ]
  },
  {
   "cell_type": "code",
   "execution_count": 23,
   "outputs": [],
   "source": [
    "class UrlEMT:\n",
    "    EMT = 'https://opendata.emtmadrid.es/'\n",
    "    GENERAL = \"/Datos-estaticos/Datos-generales-(1)\"\n",
    "    \n",
    "    def __init__(self):\n",
    "        \"\"\"\n",
    "        Constructor de la clase UrlEMT. Inicializa el conjunto de enlaces encontrados en la web de EMT.\n",
    "        \"\"\"\n",
    "        self._valid_urls = set()\n",
    "        \n",
    "    @staticmethod\n",
    "    def get_links(html_text: str) -> Set[str]:\n",
    "        \"\"\"\n",
    "        Extrae todos los enlaces válidos de un texto HTML.\n",
    "        \n",
    "        Parameters:\n",
    "        --------\n",
    "        html_text: str\n",
    "            Texto HTML del que extraer los enlaces.\n",
    "            \n",
    "        Returns:\n",
    "        --------\n",
    "        Set[str]:\n",
    "            Conjunto de enlaces válidos encontrados.\n",
    "        \"\"\"\n",
    "        # Expresión regular para encontrar enlaces que contengan 'trips' y terminen en '.csv'\n",
    "        links = re.findall(r'href=\"([^\"]*trips[^\"]*.csv)\"', html_text)\n",
    "        return set(filter(lambda x: 'trips' in x and x.endswith('.csv'), links))\n",
    "    \n",
    "    def select_valid_urls(self) -> Set[str]:\n",
    "        \"\"\"\n",
    "        Actualiza y devuelve el conjunto de enlaces válidos encontrados en la web de EMT\n",
    "        \n",
    "        Returns:\n",
    "        --------\n",
    "        Set[str]: \n",
    "            Conjunto de enlaces válidos.\n",
    "            \n",
    "        Raises:\n",
    "        --------\n",
    "        ConnectionError:\n",
    "            Si la consulta a EMT falla. \n",
    "        \"\"\"\n",
    "        url = self.EMT + self.GENERAL\n",
    "        response = requests.get(url)\n",
    "        if response.status_code != 200:\n",
    "            raise ConnectionError(\"No se puede acceder a la página de la EMT\")\n",
    "        self._valid_urls = self.get_links(response.text)\n",
    "        return self._valid_urls\n",
    "    \n",
    "    def get_url(self, month: int, year: int) -> str:\n",
    "        \"\"\"\n",
    "        Devuelve la URL correspondiente al mes y año introducidos.\n",
    "        \n",
    "        Parameters:\n",
    "        --------\n",
    "        month: int\n",
    "            mes seleccionado.\n",
    "        year: int\n",
    "            año seleccionado. \n",
    "        \n",
    "        Returns:\n",
    "        --------\n",
    "        str:\n",
    "            URL seleccionada. \n",
    "            \n",
    "        Raises:\n",
    "        --------\n",
    "        ValueError: \n",
    "            Si el mes o el año no son válidos, o si no se encuentra la URL correspondiente. \n",
    "        \"\"\"\n",
    "        if not(1 <= month <= 12) or not(21 <= year <= 23):\n",
    "            raise ValueError(\"Mes o año no válido\")\n",
    "        \n",
    "        # Formato del nombre del archivo: trips_YY_MM_monthName.csv\n",
    "        for url in self._valid_urls:\n",
    "            if f'trips_{year:02}_{month:02}' in url:\n",
    "                return self.EMT + url\n",
    "        raise ValueError(\"No se encuentra una URL válida para el mes y año dados\")\n",
    "    \n",
    "    def get_csv(self, month: int, year: int) -> TextIO:\n",
    "        \"\"\"\n",
    "        Devuelve un objeto TextIO representando el contenido de un archivo CSV.\n",
    "        \n",
    "        Parameters:\n",
    "        --------\n",
    "        month: int\n",
    "            Mes deseado.\n",
    "        year: int\n",
    "            Año deseado.\n",
    "            \n",
    "        Returns:\n",
    "        --------\n",
    "        TextIO\n",
    "            Objeto TextIO con el contenido del archivo CSV.\n",
    "            \n",
    "        Raises:\n",
    "        --------\n",
    "        ConnectionError\n",
    "            Si la consulta al servidor EMT fallase. \n",
    "        \"\"\"\n",
    "        url = self.get_url(month, year)\n",
    "        response = requests.get(url)\n",
    "        if response.status_code != 200:\n",
    "            raise ConnectionError(\"No se puede descargar el archivo CSV\")\n",
    "        return io.StringIO(response.text)"
   ],
   "metadata": {
    "collapsed": false,
    "ExecuteTime": {
     "end_time": "2023-11-10T19:51:08.121396900Z",
     "start_time": "2023-11-10T19:51:08.070814500Z"
    }
   }
  },
  {
   "cell_type": "markdown",
   "metadata": {
    "id": "qM3xGpt5Rt8A"
   },
   "source": [
    "\n",
    "## Clase `BiciMad`\n",
    "\n",
    "Vamos a crear una clase que represente los datos de uso de las bicicletas eléctricas en un mes concreto, junto con las operaciones necesarias para realizar la limpieza y el análisis básico que hemos realizado anteriormente.\n",
    "\n",
    "__Requisitos:__\n",
    "\n",
    "* Los objetos de la clase tienen  tres atributos privados que representan el mes, el año y los datos de uso extraídos de un fichero csv y representados mediante un dataframe de pandas.\n",
    "\n",
    "* Ha de contener al menos los siguientes métodos:\n",
    "\n",
    "    * `__init__`: método constructor. Acepta los argumentos de tipo entero `month` y `year`. El atributo que representa los datos, se actualiza al construir el objeto mediante el método estático `get_data`.\n",
    "    * `get_data`: método estático que acepta los argumentos de tipo entero `month` y `year` y devuelve un objeto de tipo DataFrame con los datos de uso correspondientes al mes `month` y año  `year`. El índice del dataframe debe ser la fecha en la que tuvo lugar el viaje. Todas las fechas que aparecen en los datos ha de tener tipo `datetime`.  Las únicas columnas que tiene que tener el DataFrames son:\n",
    "\n",
    "    ```\n",
    "    [ 'idBike', 'fleet', 'trip_minutes', 'geolocation_unlock', 'address_unlock', 'unlock_date', 'locktype', 'unlocktype', 'geolocation_lock', 'address_lock', 'lock_date', 'station_unlock',\n",
    "    'unlock_station_name', 'station_lock', 'lock_station_name']\n",
    "    ```\n",
    "    * `data`: método decorado con el decorador `@property` para acceder al atributo que representa los datos de uso. El atributo ha de llamarse igual.\n",
    "    * `__str__`: método especial que permite la representación informal del objeto. Su comportamiento es idéntico al método `__str__` de los objetos de la clase DataFrame.\n",
    "    * `clean`: método de instancia que se encarga de realizar la limpieza  y transformación del dataframe que representa los datos. Modifica el dataframe y no devuelve nada. Realiza las siguientes tareas:\n",
    "        * Borrado de valores NaN. Borrar las filas con todos sus valores NaN.\n",
    "        * Cambiar el tipo de datos de las siguientes columnas del dataframe: `fleet`, `idBike`, `station_lock`, `station_unlock`. Dichas columnas han de ser de tipo `str`.\n",
    "        \n",
    "    En este caso, podrás aprovechar el código ya implementado en la sección anterior.\n",
    "    * `resume`: método de instancia que devuelve un objeto de tipo Series con las siguientes restricciones:\n",
    "        * el índice está formado con las etiquetas:\n",
    "            'year', 'month',                                 'total_uses', 'total_time', 'most_popular_station', 'uses_from_most_popular'\n",
    "        * los valores son: el año, el mes, el total de usos en dicho mes, el total de horas en dicho mes, el conjunto de estaciones de desbloqueo con mayor número de usos y el número de usos de dichas estaciones.\n",
    "\n",
    "    En este caso podrás aprovechar el código de las funciones implementadas en la sección de consultas.\n",
    "\n",
    "\n",
    "## Tests\n",
    "\n",
    "Define los tests que creas necesarios para comprobar que las clases funcionan correctamente. Los tests deberán estar en un directorio independiente, dentro del proyecto, pero no en el paquete que se distribuye.\n",
    "\n",
    "## Cuaderno de jupyter\n",
    "\n",
    "Además del proyecto, se deberá incluir un cuaderno jupyter con las consultas de la ETAPA 1. Pero en lugar de utilizar las funciones que se indican en ella, deberá usar la clase `Bicimad`.\n",
    "\n",
    "# Entrega\n",
    "La entrega consistirá en un fichero comprimido `zip` con lo siguiente:\n",
    "- Fichero `whl` con el instalable del paquete generado\n",
    "- Los ficheros del paquete desarrollado, incluyendo los tests.\n",
    "- El cuaderno de jupyter con las consultas C1-C8 de la Etapa 1, usando la clase `BiciMad`\n",
    "\n",
    "# Criterios de la corrección\n",
    "Horas previstas para la realización de la práctica 15 horas.\n",
    "\n",
    "- Correcto funcionamiento de las clases 40%\n",
    "- Buena elección de tests para comprobar las clases 20%\n",
    "- Correcta generación del paquete `whl` 10%\n",
    "- Correcta documentación de las clases, métodos y funciones 10%\n",
    "- Cuaderno jupyter 10%"
   ]
  },
  {
   "cell_type": "code",
   "execution_count": 23,
   "outputs": [],
   "source": [],
   "metadata": {
    "collapsed": false,
    "ExecuteTime": {
     "end_time": "2023-11-10T19:51:08.121396900Z",
     "start_time": "2023-11-10T19:51:08.078324100Z"
    }
   }
  },
  {
   "cell_type": "markdown",
   "metadata": {
    "id": "1TG8pw83_aNc"
   },
   "source": [
    "------------------"
   ]
  }
 ],
 "metadata": {
  "colab": {
   "provenance": [],
   "toc_visible": true
  },
  "hide_input": false,
  "kernelspec": {
   "display_name": "Python 3 (ipykernel)",
   "language": "python",
   "name": "python3"
  },
  "language_info": {
   "codemirror_mode": {
    "name": "ipython",
    "version": 3
   },
   "file_extension": ".py",
   "mimetype": "text/x-python",
   "name": "python",
   "nbconvert_exporter": "python",
   "pygments_lexer": "ipython3",
   "version": "3.10.7"
  },
  "nbTranslate": {
   "displayLangs": [
    "en",
    "es"
   ],
   "hotkey": "alt-t",
   "langInMainMenu": true,
   "sourceLang": "es",
   "targetLang": "en",
   "useGoogleTranslate": true
  },
  "toc": {
   "base_numbering": 1,
   "nav_menu": {},
   "number_sections": true,
   "sideBar": true,
   "skip_h1_title": false,
   "title_cell": "Table of Contents",
   "title_sidebar": "Contents",
   "toc_cell": false,
   "toc_position": {
    "height": "calc(100% - 180px)",
    "left": "10px",
    "top": "150px",
    "width": "288px"
   },
   "toc_section_display": true,
   "toc_window_display": true
  }
 },
 "nbformat": 4,
 "nbformat_minor": 0
}
